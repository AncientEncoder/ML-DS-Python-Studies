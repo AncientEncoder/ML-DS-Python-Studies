{
  "nbformat": 4,
  "nbformat_minor": 0,
  "metadata": {
    "colab": {
      "name": "Python_Training.ipynb",
      "provenance": [],
      "collapsed_sections": [],
      "toc_visible": true,
      "authorship_tag": "ABX9TyNwxxkNyW9J03rU7UfZ0VG3",
      "include_colab_link": true
    },
    "kernelspec": {
      "name": "python3",
      "display_name": "Python 3"
    },
    "language_info": {
      "name": "python"
    }
  },
  "cells": [
    {
      "cell_type": "markdown",
      "metadata": {
        "id": "view-in-github",
        "colab_type": "text"
      },
      "source": [
        "<a href=\"https://colab.research.google.com/github/AxoyTO/ML-DS-Python-Studies/blob/master/Python_Basics_Introduction-To-Data-Science.ipynb\" target=\"_parent\"><img src=\"https://colab.research.google.com/assets/colab-badge.svg\" alt=\"Open In Colab\"/></a>"
      ]
    },
    {
      "cell_type": "code",
      "metadata": {
        "colab": {
          "base_uri": "https://localhost:8080/"
        },
        "id": "dPQDc-DA5rxp",
        "outputId": "ec9593ad-11e6-442a-b369-60a4b9bd5625"
      },
      "source": [
        "!pip3 install ColabTurtle"
      ],
      "execution_count": null,
      "outputs": [
        {
          "output_type": "stream",
          "name": "stdout",
          "text": [
            "Collecting ColabTurtle\n",
            "  Downloading ColabTurtle-2.1.0.tar.gz (6.8 kB)\n",
            "Building wheels for collected packages: ColabTurtle\n",
            "  Building wheel for ColabTurtle (setup.py) ... \u001b[?25l\u001b[?25hdone\n",
            "  Created wheel for ColabTurtle: filename=ColabTurtle-2.1.0-py3-none-any.whl size=7655 sha256=71106f50de9b5eee7aacafec014b02b54a2745297fdf5aebc1ae1d1edb054848\n",
            "  Stored in directory: /root/.cache/pip/wheels/0d/ab/65/cc4478508751448dfb4ecb20a6533082855c227dfce8c13902\n",
            "Successfully built ColabTurtle\n",
            "Installing collected packages: ColabTurtle\n",
            "Successfully installed ColabTurtle-2.1.0\n"
          ]
        }
      ]
    },
    {
      "cell_type": "code",
      "metadata": {
        "colab": {
          "base_uri": "https://localhost:8080/",
          "height": 521
        },
        "id": "dOwzzZfc5fR8",
        "outputId": "256bacd9-8ada-4523-84dd-1d2edf91f948"
      },
      "source": [
        "from ColabTurtle.Turtle import *\n",
        "initializeTurtle() #1\n",
        "speed(10) #2\n",
        "pensize(2) #3\n",
        "\n",
        "right(90) #4\n",
        "forward(100) #5\n",
        "right(90) #6\n",
        "forward(100) #7\n",
        "right(90) #8\n",
        "forward(100) #9\n",
        "right(90) #10\n",
        "forward(100) #11\n",
        "\n",
        "right(60) #12\n",
        "forward(57) #13\n",
        "right(60) #14\n",
        "forward(20) #15\n",
        "\n",
        "left(120) #16\n",
        "forward(20) #17\n",
        "right(90) #18\n",
        "forward(20) #19\n",
        "right(90) #20\n",
        "forward(20) #21\n",
        "forward(11) #22\n",
        "left(60) #23\n",
        "forward(14) #24\n",
        "\n",
        "penup() #25\n",
        "forward(50) #26"
      ],
      "execution_count": null,
      "outputs": [
        {
          "output_type": "display_data",
          "data": {
            "text/html": [
              "\n",
              "      <svg width=\"800\" height=\"500\">\n",
              "        <rect width=\"100%\" height=\"100%\" fill=\"black\"/>\n",
              "        <line x1=\"400\" y1=\"250\" x2=\"500.0\" y2=\"250.0\" stroke-linecap=\"round\" style=\"stroke:white;stroke-width:2\"/><line x1=\"500.0\" y1=\"250.0\" x2=\"500.0\" y2=\"350.0\" stroke-linecap=\"round\" style=\"stroke:white;stroke-width:2\"/><line x1=\"500.0\" y1=\"350.0\" x2=\"400.0\" y2=\"350.0\" stroke-linecap=\"round\" style=\"stroke:white;stroke-width:2\"/><line x1=\"400.0\" y1=\"350.0\" x2=\"400.0\" y2=\"250.0\" stroke-linecap=\"round\" style=\"stroke:white;stroke-width:2\"/><line x1=\"400.0\" y1=\"250.0\" x2=\"449.363\" y2=\"221.5\" stroke-linecap=\"round\" style=\"stroke:white;stroke-width:2\"/><line x1=\"449.363\" y1=\"221.5\" x2=\"466.684\" y2=\"231.5\" stroke-linecap=\"round\" style=\"stroke:white;stroke-width:2\"/><line x1=\"466.684\" y1=\"231.5\" x2=\"466.684\" y2=\"211.5\" stroke-linecap=\"round\" style=\"stroke:white;stroke-width:2\"/><line x1=\"466.684\" y1=\"211.5\" x2=\"486.684\" y2=\"211.5\" stroke-linecap=\"round\" style=\"stroke:white;stroke-width:2\"/><line x1=\"486.684\" y1=\"211.5\" x2=\"486.684\" y2=\"231.5\" stroke-linecap=\"round\" style=\"stroke:white;stroke-width:2\"/><line x1=\"486.684\" y1=\"231.5\" x2=\"486.684\" y2=\"242.5\" stroke-linecap=\"round\" style=\"stroke:white;stroke-width:2\"/><line x1=\"486.684\" y1=\"242.5\" x2=\"498.808\" y2=\"249.5\" stroke-linecap=\"round\" style=\"stroke:white;stroke-width:2\"/>\n",
              "        <g visibility=visible transform=\"rotate(120,542.109,274.5) translate(524.109, 256.5)\">\n",
              "<path style=\" stroke:none;fill-rule:evenodd;fill:white;fill-opacity:1;\" d=\"M 18.214844 0.632812 C 16.109375 1.800781 15.011719 4.074219 15.074219 7.132812 L 15.085938 7.652344 L 14.785156 7.496094 C 13.476562 6.824219 11.957031 6.671875 10.40625 7.066406 C 8.46875 7.550781 6.515625 9.15625 4.394531 11.992188 C 3.0625 13.777344 2.679688 14.636719 3.042969 15.027344 L 3.15625 15.152344 L 3.519531 15.152344 C 4.238281 15.152344 4.828125 14.886719 8.1875 13.039062 C 9.386719 12.378906 10.371094 11.839844 10.378906 11.839844 C 10.386719 11.839844 10.355469 11.929688 10.304688 12.035156 C 9.832031 13.09375 9.257812 14.820312 8.96875 16.078125 C 7.914062 20.652344 8.617188 24.53125 11.070312 27.660156 C 11.351562 28.015625 11.363281 27.914062 10.972656 28.382812 C 8.925781 30.84375 7.945312 33.28125 8.238281 35.1875 C 8.289062 35.527344 8.28125 35.523438 8.917969 35.523438 C 10.941406 35.523438 13.074219 34.207031 15.136719 31.6875 C 15.359375 31.417969 15.328125 31.425781 15.5625 31.574219 C 16.292969 32.042969 18.023438 32.964844 18.175781 32.964844 C 18.335938 32.964844 19.941406 32.210938 20.828125 31.71875 C 20.996094 31.625 21.136719 31.554688 21.136719 31.558594 C 21.203125 31.664062 21.898438 32.414062 22.222656 32.730469 C 23.835938 34.300781 25.5625 35.132812 27.582031 35.300781 C 27.90625 35.328125 27.9375 35.308594 28.007812 34.984375 C 28.382812 33.242188 27.625 30.925781 25.863281 28.425781 L 25.542969 27.96875 L 25.699219 27.785156 C 28.945312 23.960938 29.132812 18.699219 26.257812 11.96875 L 26.207031 11.84375 L 27.945312 12.703125 C 31.53125 14.476562 32.316406 14.800781 33.03125 14.800781 C 33.976562 14.800781 33.78125 13.9375 32.472656 12.292969 C 28.519531 7.355469 25.394531 5.925781 21.921875 7.472656 L 21.558594 7.636719 L 21.578125 7.542969 C 21.699219 6.992188 21.761719 5.742188 21.699219 5.164062 C 21.496094 3.296875 20.664062 1.964844 19.003906 0.855469 C 18.480469 0.503906 18.457031 0.5 18.214844 0.632812\"/>\n",
              "</g>\n",
              "      </svg>\n",
              "    "
            ],
            "text/plain": [
              "<IPython.core.display.HTML object>"
            ]
          },
          "metadata": {}
        }
      ]
    },
    {
      "cell_type": "code",
      "metadata": {
        "colab": {
          "base_uri": "https://localhost:8080/"
        },
        "id": "sLPQPZoTBejW",
        "outputId": "0a218b90-5e0e-4ec3-b88e-b8773b83ccd4"
      },
      "source": [
        "str = input()\n",
        "print(len(str))"
      ],
      "execution_count": null,
      "outputs": [
        {
          "output_type": "stream",
          "name": "stdout",
          "text": [
            "Hello World!\n",
            "12\n"
          ]
        }
      ]
    },
    {
      "cell_type": "code",
      "metadata": {
        "colab": {
          "base_uri": "https://localhost:8080/"
        },
        "id": "2wNB8AufgYc1",
        "outputId": "066701ef-9676-4cc0-9b85-403145d0a7cd"
      },
      "source": [
        "str = input()\n",
        "print(str[::-1])"
      ],
      "execution_count": null,
      "outputs": [
        {
          "output_type": "stream",
          "name": "stdout",
          "text": [
            "Hello World!\n",
            "!dlroW olleH\n"
          ]
        }
      ]
    },
    {
      "cell_type": "code",
      "metadata": {
        "colab": {
          "base_uri": "https://localhost:8080/"
        },
        "id": "N8CKXn0Sgs8d",
        "outputId": "911bd6ac-89fe-4f8a-b9e5-506aa4e57eab"
      },
      "source": [
        "str = input()\n",
        "x = str.split(\"\\\"\")\n",
        "print(x[1])"
      ],
      "execution_count": null,
      "outputs": [
        {
          "output_type": "stream",
          "name": "stdout",
          "text": [
            "Hel\"lo Wor\"ld!\n",
            "lo Wor\n"
          ]
        }
      ]
    },
    {
      "cell_type": "code",
      "metadata": {
        "colab": {
          "base_uri": "https://localhost:8080/"
        },
        "id": "vFqiWg4HhwUs",
        "outputId": "1bb38bc3-4381-420a-db6c-1ec9278829d2"
      },
      "source": [
        "num = eval(input())\n",
        "print(num*2)"
      ],
      "execution_count": null,
      "outputs": [
        {
          "output_type": "stream",
          "name": "stdout",
          "text": [
            "7\n",
            "14\n"
          ]
        }
      ]
    },
    {
      "cell_type": "code",
      "metadata": {
        "colab": {
          "base_uri": "https://localhost:8080/"
        },
        "id": "5WCSIW1MiaRL",
        "outputId": "e7c7f996-f9fe-4d10-b015-ffd5d014e4a1"
      },
      "source": [
        "a = list(map(int,input().strip().split()))[:2]\n",
        "print(a[1], a[0])\n"
      ],
      "execution_count": null,
      "outputs": [
        {
          "output_type": "stream",
          "name": "stdout",
          "text": [
            "3254543 793423410\n",
            "793423410 3254543\n"
          ]
        }
      ]
    },
    {
      "cell_type": "code",
      "metadata": {
        "colab": {
          "base_uri": "https://localhost:8080/"
        },
        "id": "c4nPb_egkdTr",
        "outputId": "8cced196-7ae0-4482-acb9-3c8782ac41f4"
      },
      "source": [
        "mail = input()\n",
        "login = mail.split(\"@\")[0]\n",
        "print(login)"
      ],
      "execution_count": null,
      "outputs": [
        {
          "output_type": "stream",
          "name": "stdout",
          "text": [
            "ivan@lenta.ru\n",
            "ivan\n"
          ]
        }
      ]
    },
    {
      "cell_type": "code",
      "metadata": {
        "colab": {
          "base_uri": "https://localhost:8080/"
        },
        "id": "jwW8g6XFk5uR",
        "outputId": "a9c31e35-c147-46ea-a024-f37e99f90ee7"
      },
      "source": [
        "num = input()\n",
        "char_to_delete=\"()- \"\n",
        "for c in char_to_delete:\n",
        "  num = num.replace(c, \"\") \n",
        "print(num)"
      ],
      "execution_count": null,
      "outputs": [
        {
          "output_type": "stream",
          "name": "stdout",
          "text": [
            "+7 (812) 134-12-324\n",
            "+781213412324\n"
          ]
        }
      ]
    },
    {
      "cell_type": "code",
      "metadata": {
        "colab": {
          "base_uri": "https://localhost:8080/"
        },
        "id": "tNSwBneRmH0B",
        "outputId": "3ff21bbe-ba94-41cb-fdf2-849aad5ca48e"
      },
      "source": [
        "str = input().replace(\" \", \"\").lower()\n",
        "print(\"It is a palindrome\") if str == str[::-1] else print(\"It is not a palindrome\")"
      ],
      "execution_count": null,
      "outputs": [
        {
          "output_type": "stream",
          "name": "stdout",
          "text": [
            "f AoAO  AF\n",
            "It is a palindrome\n"
          ]
        }
      ]
    },
    {
      "cell_type": "code",
      "metadata": {
        "colab": {
          "base_uri": "https://localhost:8080/"
        },
        "id": "jsUV8c8RoDQZ",
        "outputId": "7438cdbf-6d17-49f8-8b3f-046a0ed91e93"
      },
      "source": [
        "num = \"\"\n",
        "for i in range(1,124):\n",
        "  if not '9' in \"{}\".format(i):\n",
        "    num += \"{}\".format(i)\n",
        "\n",
        "print(num)\n"
      ],
      "execution_count": null,
      "outputs": [
        {
          "output_type": "stream",
          "name": "stdout",
          "text": [
            "12345678101112131415161718202122232425262728303132333435363738404142434445464748505152535455565758606162636465666768707172737475767778808182838485868788100101102103104105106107108110111112113114115116117118120121122123\n"
          ]
        }
      ]
    },
    {
      "cell_type": "code",
      "metadata": {
        "colab": {
          "base_uri": "https://localhost:8080/"
        },
        "id": "kTndmu_4rjnQ",
        "outputId": "ed0cdaeb-c3c6-4c7e-9b4f-36929ae4e783"
      },
      "source": [
        "num = \"\"\n",
        "for i in range(1,124):\n",
        "  num += \"{}\".format(i)\n",
        "num = num.replace(\"9\", \"\")\n",
        "print(num)"
      ],
      "execution_count": null,
      "outputs": [
        {
          "output_type": "stream",
          "name": "stdout",
          "text": [
            "12345678101112131415161718120212223242526272823031323334353637383404142434445464748450515253545556575856061626364656667686707172737475767778780818283848586878880123456781001011021031041051061071081011011111211311411511611711811120121122123\n"
          ]
        }
      ]
    },
    {
      "cell_type": "code",
      "metadata": {
        "id": "crAl4jy2qw3m"
      },
      "source": [
        "with open(\"input.txt\", \"w\") as f:\n",
        "  f.write(\"3\\nDania\\nPetya\\nEgor\\n13 oct\\n28 mar\\n26 feb\")"
      ],
      "execution_count": null,
      "outputs": []
    },
    {
      "cell_type": "code",
      "metadata": {
        "id": "ecdKSyRR3DWA"
      },
      "source": [
        "with open(\"studygroup.txt\", \"w\") as f:\n",
        "  f.write(\"Dima Petya Sasha Misha Egor\")"
      ],
      "execution_count": null,
      "outputs": []
    },
    {
      "cell_type": "code",
      "metadata": {
        "colab": {
          "base_uri": "https://localhost:8080/"
        },
        "id": "P3kZODbOqw92",
        "outputId": "6b3225b9-82fb-43cb-f691-67f3fa85db8d"
      },
      "source": [
        "with open(\"input.txt\", \"r\") as f:\n",
        "  s = f.read()\n",
        "k = s.split(\" \")\n",
        "for i in range(0,len(k)):\n",
        "  k[i] = k[i][::-1]\n",
        "s = \" \".join(k)\n",
        "print(s)"
      ],
      "execution_count": null,
      "outputs": [
        {
          "output_type": "stream",
          "name": "stdout",
          "text": [
            "отЧ еокат ьнесо - отэ обен\n"
          ]
        }
      ]
    },
    {
      "cell_type": "code",
      "metadata": {
        "colab": {
          "base_uri": "https://localhost:8080/"
        },
        "id": "mho2RHLAqwpO",
        "outputId": "71fa9057-d5fc-427b-fe2a-a1fb4b5ade73"
      },
      "source": [
        "with open(\"input.txt\", \"r\") as f:\n",
        "  s = f.readlines()\n",
        "for i in s:\n",
        "  if \"ё\" in i:\n",
        "    print(i[:-1])"
      ],
      "execution_count": null,
      "outputs": [
        {
          "output_type": "stream",
          "name": "stdout",
          "text": [
            "['В лесу родилась ёлочка,\\n', 'В лесу она росла,\\n', 'Зимой и летом стройная, зелёная была']\n",
            "В лесу родилась ёлочка,\n",
            "Зимой и летом стройная, зелёная был\n"
          ]
        }
      ]
    },
    {
      "cell_type": "code",
      "metadata": {
        "colab": {
          "base_uri": "https://localhost:8080/"
        },
        "id": "7V8n7swiv1VD",
        "outputId": "c87668b4-52bf-4a7f-b22e-c43bef6a142d"
      },
      "source": [
        "k = []\n",
        "with open(\"input.txt\", \"r\") as f:\n",
        "  s = f.readlines()\n",
        "for i in s:\n",
        "  k = i.split()\n",
        "  k = k[::2]\n",
        "  print(\" \".join(k))\n"
      ],
      "execution_count": null,
      "outputs": [
        {
          "output_type": "stream",
          "name": "stdout",
          "text": [
            "Мне привезли товар в плохом состоянии.\n",
            "Плата разбита\n",
            "Я хочу вернуть деньги.\n"
          ]
        }
      ]
    },
    {
      "cell_type": "code",
      "metadata": {
        "colab": {
          "base_uri": "https://localhost:8080/"
        },
        "id": "a67r-DLrv1gy",
        "outputId": "bd112299-b761-429b-b5e7-04fd5d4e1308"
      },
      "source": [
        "s = []\n",
        "bd = []\n",
        "with open(\"input.txt\", \"r\") as f:\n",
        "  n = f.readline()\n",
        "  for i in range(int(n)):\n",
        "    s.append(f.readline()[:-1])\n",
        "  for i in range(int(n)-1):\n",
        "    bd.append(f.readline()[:-1])\n",
        "  bd.append(f.readline())\n",
        "print(n)\n",
        "print(s)\n",
        "print(bd)\n",
        "with open(\"output.txt\", \"w\") as f:\n",
        "  for i in range(int(n)):\n",
        "    f.write(s[i] + \"\\t\" + bd[i] +\"\\n\")\n"
      ],
      "execution_count": null,
      "outputs": [
        {
          "output_type": "stream",
          "name": "stdout",
          "text": [
            "3\n",
            "\n",
            "['Dania', 'Petya', 'Egor']\n",
            "['13 oct', '28 mar', '26 feb']\n"
          ]
        }
      ]
    },
    {
      "cell_type": "code",
      "metadata": {
        "colab": {
          "base_uri": "https://localhost:8080/"
        },
        "id": "jm9YEx8rv1wq",
        "outputId": "bae24bbd-541b-4f1c-82a1-e7a00f98fb1e"
      },
      "source": [
        "from itertools import combinations\n",
        "with open(\"studygroup.txt\", \"r\") as f:\n",
        "  s = f.read()\n",
        "c = [' '.join(i) for i in combinations(list(s.split()),3)]\n",
        "for i in c:\n",
        "   print(\"1: \" + i.split()[0] + \" 2: \" + i.split()[1] + \" 3: \" + i.split()[2])"
      ],
      "execution_count": null,
      "outputs": [
        {
          "output_type": "stream",
          "name": "stdout",
          "text": [
            "1: Dima 2: Petya 3: Sasha\n",
            "1: Dima 2: Petya 3: Misha\n",
            "1: Dima 2: Petya 3: Egor\n",
            "1: Dima 2: Sasha 3: Misha\n",
            "1: Dima 2: Sasha 3: Egor\n",
            "1: Dima 2: Misha 3: Egor\n",
            "1: Petya 2: Sasha 3: Misha\n",
            "1: Petya 2: Sasha 3: Egor\n",
            "1: Petya 2: Misha 3: Egor\n",
            "1: Sasha 2: Misha 3: Egor\n"
          ]
        }
      ]
    },
    {
      "cell_type": "markdown",
      "metadata": {
        "id": "WaXLB6lPpCev"
      },
      "source": [
        "# 4.3. Перевод из двоичной системы счисления в десятичную"
      ]
    },
    {
      "cell_type": "code",
      "metadata": {
        "id": "MC7oeXIAJmkq"
      },
      "source": [
        "with open(\"input.txt\", \"w\") as f:\n",
        "  f.write(\"1 2 3\")"
      ],
      "execution_count": null,
      "outputs": []
    },
    {
      "cell_type": "code",
      "metadata": {
        "colab": {
          "base_uri": "https://localhost:8080/"
        },
        "id": "Kv-WbkwoJmgu",
        "outputId": "24bdc933-1332-4e84-951e-5aff1f389065"
      },
      "source": [
        "with open(\"input.txt\", \"r\") as f:\n",
        "  num = f.read()\n",
        "n = 0\n",
        "new_num = 0\n",
        "for i in num[::-1]:\n",
        "  new_num += int(i)*2**n\n",
        "  n+=1\n",
        "print(new_num)"
      ],
      "execution_count": null,
      "outputs": [
        {
          "output_type": "stream",
          "name": "stdout",
          "text": [
            "255\n"
          ]
        }
      ]
    },
    {
      "cell_type": "markdown",
      "metadata": {
        "id": "TJOhzReLo-EQ"
      },
      "source": [
        "# 4.4. Вычисление дроби"
      ]
    },
    {
      "cell_type": "code",
      "metadata": {
        "id": "Bf6UOFcnJSpy",
        "colab": {
          "base_uri": "https://localhost:8080/"
        },
        "outputId": "4e84e639-4e53-4394-90e7-448eca2a4909"
      },
      "source": [
        "from fractions import Fraction\n",
        "\n",
        "l=[]\n",
        "with open(\"input.txt\", \"r\") as f:\n",
        "  for i in range(2):\n",
        "    l.append(f.readline()[:-1])\n",
        "  l.append(f.readline())\n",
        "an = int(l[0].split(\" \")[0])\n",
        "ad = int(l[0].split(\" \")[1])\n",
        "bn = int(l[1].split(\" \")[0])\n",
        "bd = int(l[1].split(\" \")[1])\n",
        "cn = int(l[2].split(\" \")[0])\n",
        "cd = int(l[2].split(\" \")[1])\n",
        "\n",
        "a = Fraction(an,ad)\n",
        "b = Fraction(bn,bd)\n",
        "c = Fraction(cn,cd)\n",
        "\n",
        "s = Fraction(b,a)\n",
        "m = Fraction(b,a+c)\n",
        "n = Fraction(c,c-a)\n",
        "\n",
        "print(\"{:.4f}\".format(float(s+m-n)))"
      ],
      "execution_count": null,
      "outputs": [
        {
          "output_type": "stream",
          "name": "stdout",
          "text": [
            "4.4065\n"
          ]
        }
      ]
    },
    {
      "cell_type": "markdown",
      "metadata": {
        "id": "xJVjqlGYo6jX"
      },
      "source": [
        "# 4.5. Сумма последовательности чисел"
      ]
    },
    {
      "cell_type": "code",
      "metadata": {
        "id": "57QGncM2JSnh",
        "colab": {
          "base_uri": "https://localhost:8080/"
        },
        "outputId": "7b7afa47-08bc-49ab-e4b4-edf41bc6700e"
      },
      "source": [
        "l = []\n",
        "while(1):\n",
        "  k = int(input())\n",
        "  if k == 0:\n",
        "    break\n",
        "  l.append(k)\n",
        "\n",
        "if l:\n",
        "  print(len(l),sum(l))\n",
        "else:\n",
        "  print(0, 0)"
      ],
      "execution_count": null,
      "outputs": [
        {
          "output_type": "stream",
          "name": "stdout",
          "text": [
            "0\n",
            "0 0\n"
          ]
        }
      ]
    },
    {
      "cell_type": "markdown",
      "metadata": {
        "id": "WLeCjFz1o00a"
      },
      "source": [
        "# 4.6. Элемент геометрической прогрессии\n"
      ]
    },
    {
      "cell_type": "code",
      "metadata": {
        "id": "d-Tfn4gtJSlT",
        "colab": {
          "base_uri": "https://localhost:8080/"
        },
        "outputId": "6f962431-a945-4cd9-e499-8d2e07939cd8"
      },
      "source": [
        "b1,q,a = map(float,input().split())\n",
        "n = 1\n",
        "b = b1*pow(q,n-1)\n",
        "while(b<a):\n",
        "  b = b*q\n",
        "  n = n+1\n",
        "print(n)"
      ],
      "execution_count": null,
      "outputs": [
        {
          "output_type": "stream",
          "name": "stdout",
          "text": [
            "1 2 3\n",
            "3\n"
          ]
        }
      ]
    },
    {
      "cell_type": "markdown",
      "metadata": {
        "id": "2LfytX5lowpw"
      },
      "source": [
        "# 4.7. Банковский вклад*"
      ]
    },
    {
      "cell_type": "code",
      "metadata": {
        "id": "qKBqGBvhJSjF",
        "colab": {
          "base_uri": "https://localhost:8080/"
        },
        "outputId": "8498ca2a-2264-431e-a7e4-f0b6219d10c1"
      },
      "source": [
        "s = str(input()).split()\n",
        "amount = int(s[0])\n",
        "period = int(s[1])\n",
        "rate = float(s[2])\n",
        "labels = (\"Месяц\", \"Сумма на вкладе\", \"Начисление\")\n",
        "with open(\"output.csv\", \"w\") as csv_file:\n",
        "  print(*labels, sep=',', file=csv_file)\n",
        "  for i in range(12*period):\n",
        "    month = i+1\n",
        "    accrual = (amount*rate*1/12)/100\n",
        "    amount += accrual\n",
        "    print(f\"{month},{amount:0.2f},{accrual:0.2f}\", file=csv_file)"
      ],
      "execution_count": null,
      "outputs": [
        {
          "name": "stdout",
          "output_type": "stream",
          "text": [
            "1000000 2 10\n"
          ]
        }
      ]
    },
    {
      "cell_type": "markdown",
      "metadata": {
        "id": "0zPRCpLhoS7X"
      },
      "source": [
        "# 5.3. Две команды"
      ]
    },
    {
      "cell_type": "code",
      "metadata": {
        "id": "E6Q0KRW8F_MM"
      },
      "source": [
        "with open(\"weights.txt\", \"w\") as f:\n",
        "  print(\"A 1.5\\nB 2.5\\nC 3.5\\nD 4.5\\nE 6.5\\nF 7.5\\nG 8.5\\nH 9.5\\nI 10.5\\nJ 11.5\\nK 12.5\\nL 13.5\\nM 14.5\\nN 15.5\\nO 16.5\\nP 17.5\\nQ 18.5\\nR 19.5\\nS 20.5\\nT 21.5\\nU 22.5\\nV 23.5\", file=f, end=\"\")"
      ],
      "execution_count": null,
      "outputs": []
    },
    {
      "cell_type": "code",
      "metadata": {
        "id": "cDo8VOYU3Iji"
      },
      "source": [
        "players = {}\n",
        "with open(\"weights.txt\", \"r\") as f:\n",
        "  a = f.read()\n",
        "a = a.split()\n",
        "keys = a[::2]\n",
        "vals = a[1::2]\n",
        "for i in range(len(vals)):\n",
        "  vals[i] = float(vals[i])\n",
        "for i in range(len(keys)):\n",
        "  players[keys[i]] = vals[i]\n",
        "\n",
        "players = dict(sorted(players.items(), key=lambda item: item[1], reverse=True))\n",
        "keys = list(players.keys())\n",
        "vals = list(players.values())\n",
        "\n",
        "team1= keys[::2]\n",
        "weights1 = vals[::2]\n",
        "team2 = keys[1::2]\n",
        "weights2 = vals[1::2]\n",
        "\n",
        "\n",
        "with open(\"team.txt\",\"w\") as f:\n",
        "  for i in range(len(team1)):\n",
        "    print(team1[i], weights1[i], file=f)\n",
        "\n",
        "  for i in range(len(team2)):\n",
        "    print(team2[i], weights2[i], file=f)"
      ],
      "execution_count": null,
      "outputs": []
    },
    {
      "cell_type": "markdown",
      "metadata": {
        "id": "dgKLYfmUoNxv"
      },
      "source": [
        "# 5.4. Неопубликованный шедевр"
      ]
    },
    {
      "cell_type": "code",
      "metadata": {
        "id": "yOjajkCrRCiq"
      },
      "source": [
        "with open(\"poe_unpublished.txt\", \"w\", newline='') as f:\n",
        "  print(\"I was angry with my friend\", file = f)\n",
        "  print(\"I told my wrath my wrath did end\", file=f)\n",
        "  print(\"I was angry with my foe\", file=f)\n",
        "  print(\"I told it not my wrath did grow\", file=f)"
      ],
      "execution_count": null,
      "outputs": []
    },
    {
      "cell_type": "code",
      "metadata": {
        "id": "0nN4DQ-nRVpx"
      },
      "source": [
        "a = []\n",
        "with open(\"poe_unpublished.txt\", \"r\", newline=\"\") as f:\n",
        "  num_lines = sum(1 for line in f)\n",
        "  f.seek(0)\n",
        "  for line in f:\n",
        "    a.append(line.rstrip())\n",
        "nl = []\n",
        "\n",
        "paragraph = []\n",
        "\n",
        "for i in a:\n",
        "  words = i.split()\n",
        "  word_len = [len(i) for i in words]\n",
        "  total_words_in_each_string = sum(1 for i in words)\n",
        "  paragraph.append([i, total_words_in_each_string])\n",
        "\n",
        "paragraph = sorted(paragraph, key = lambda x: x[1])\n",
        "\n",
        "with open(\"poe_decode_attempt.txt\", \"w\") as f:\n",
        "  for sentence in paragraph:\n",
        "    words = sentence[0].split()\n",
        "    word_len = [len(i) for i in words]\n",
        "    #print(words)\n",
        "    ult = []\n",
        "    for i in range(len(words)):\n",
        "      ult.append([words[i],word_len[i]])\n",
        "    ult = sorted(ult, key = lambda x: x[1])\n",
        "    st = \"\"\n",
        "    for i in range(len(ult)):\n",
        "      st += ult[i][0]\n",
        "      if i != len(ult)-1:\n",
        "        st += \" \"\n",
        "    print(st, file=f)\n",
        "\n",
        "    "
      ],
      "execution_count": null,
      "outputs": []
    },
    {
      "cell_type": "markdown",
      "metadata": {
        "id": "g2NfbuSgoJwn"
      },
      "source": [
        "# 5.5. Транспонирование"
      ]
    },
    {
      "cell_type": "code",
      "metadata": {
        "id": "nwDr2xRYesJo"
      },
      "source": [
        "with open(\"med_research.txt\", \"w\") as f:\n",
        "  f.write(\"1 2 3 4 5\\n6 7 8 9 10\\n11 12 13 14 15\")"
      ],
      "execution_count": null,
      "outputs": []
    },
    {
      "cell_type": "code",
      "metadata": {
        "id": "6KlLSSVue-B_"
      },
      "source": [
        "data = []\n",
        "with open(\"med_research.txt\", \"r\") as f:\n",
        "  for line in f:\n",
        "    data.append(line.rstrip())\n",
        "for i in range(len(data)):\n",
        "  data[i] = data[i].split()\n",
        "\n",
        "with open(\"output.txt\", \"w\") as f:\n",
        "  for i in range(len(data[0])):\n",
        "    for j in range(len(data)):\n",
        "      print(data[j][i], end=\" \", file =f)\n",
        "    print(file=f)\n"
      ],
      "execution_count": null,
      "outputs": []
    },
    {
      "cell_type": "code",
      "metadata": {
        "id": "MWEqxrosia7J"
      },
      "source": [
        "import os\n",
        "if os.path.exists(\"calls.txt\"):\n",
        "  os.remove(\"calls.txt\")\n",
        "else:\n",
        "  print(\"The file does not exist\")"
      ],
      "execution_count": null,
      "outputs": []
    },
    {
      "cell_type": "markdown",
      "metadata": {
        "id": "CzWUsUC1n5JP"
      },
      "source": [
        "# **5.6. Логирование звонков**"
      ]
    },
    {
      "cell_type": "code",
      "metadata": {
        "id": "WOXEsGm7e-En"
      },
      "source": [
        "with open(\"the_calls.txt\", \"w\") as f:\n",
        "  f.write(\"2021.12.12\t3\tB\t+79090329400\\n2019.10.03\t18\tA\t+79999995454\\n2020.05.04\t13\tB\t+72352452532\\n2020.05.04\t4\tA\t+79023987567\\n\")"
      ],
      "execution_count": null,
      "outputs": []
    },
    {
      "cell_type": "code",
      "metadata": {
        "id": "XXj4TyWTieiw"
      },
      "source": [
        "with open(\"the_calls.txt\", \"r\") as f:\n",
        "  a = f.read()\n",
        "data_a = []\n",
        "data_b = []\n",
        "a = a.split()\n",
        "for i in range(0, len(a), 4):\n",
        "  if a[i+2] == \"A\":\n",
        "    data_a.append([a[i], a[i+1], a[i+2], a[i+3]])\n",
        "  if a[i+2] == \"B\":\n",
        "    data_b.append([a[i], a[i+1], a[i+2], a[i+3]])\n",
        "\n",
        "data_a = sorted(data_a, key = lambda x: x[1])\n",
        "data_b = sorted(data_b, key = lambda x: x[1])\n",
        "\n",
        "with open(\"calls.txt\", \"w\") as f:\n",
        "  for i in range(len(data_a)):\n",
        "    print(\"\\t\".join(data_a[i]), file=f)\n",
        "  for i in range(len(data_b)):\n",
        "    print(\"\\t\".join(data_b[i]), file=f)"
      ],
      "execution_count": null,
      "outputs": []
    },
    {
      "cell_type": "code",
      "metadata": {
        "id": "Ava5VJKgiel4"
      },
      "source": [
        "with open(\"the_calls.txt\", \"r\", encoding=\"utf-8\") as f, open(\"calls.txt\", \"w\", encoding=\"utf-8\") as calls:\n",
        "\tprint(*sorted([x.strip() for x in f.readlines()], \n",
        "               key = lambda x: (x.split(\"\\t\")[2], -int(x.split('\\t')[1]))), sep = \"\\n\", file = calls)"
      ],
      "execution_count": null,
      "outputs": []
    },
    {
      "cell_type": "markdown",
      "metadata": {
        "id": "YYqk3odwpI_o"
      },
      "source": [
        "# 6. Частотный Анализ"
      ]
    },
    {
      "cell_type": "markdown",
      "metadata": {
        "id": "Q6ncsafZpK_u"
      },
      "source": [
        "# 6.4. Наиболее часто встречающаяся цифра"
      ]
    },
    {
      "cell_type": "code",
      "metadata": {
        "colab": {
          "base_uri": "https://localhost:8080/"
        },
        "id": "bKoVxRvnUVfK",
        "outputId": "8c796a47-952e-455a-f809-8c31c081bdb6"
      },
      "source": [
        "def most_frequent(List):\n",
        "    counter = 0\n",
        "    num = List[0]\n",
        "     \n",
        "    for i in List:\n",
        "        curr_frequency = List.count(i)\n",
        "        if(curr_frequency> counter):\n",
        "            counter = curr_frequency\n",
        "            num = i\n",
        " \n",
        "    return num\n",
        "\n",
        "num = int(input())\n",
        "num = [int(i) for i in str(num)]\n",
        "print(most_frequent(num))"
      ],
      "execution_count": null,
      "outputs": [
        {
          "output_type": "stream",
          "name": "stdout",
          "text": [
            "2023\n",
            "2\n"
          ]
        }
      ]
    },
    {
      "cell_type": "markdown",
      "metadata": {
        "id": "ND6g9nI1WB9P"
      },
      "source": [
        "# 6.5. Все виды животных"
      ]
    },
    {
      "cell_type": "code",
      "metadata": {
        "id": "nGEVF3CgUV4A"
      },
      "source": [
        "with open(\"input.txt\", \"w\") as f:\n",
        "  f.write(\"7910 leopard male Leo 04.06.2001 05.15.2010\\n9315 orangutan male Hiha 01.04.2004 03.24.2012\\n2226 leopard female Lia 07.28.2007 08.24.2019\")"
      ],
      "execution_count": null,
      "outputs": []
    },
    {
      "cell_type": "code",
      "metadata": {
        "colab": {
          "base_uri": "https://localhost:8080/"
        },
        "id": "TiyxfBMKWVs7",
        "outputId": "4ab3eedc-9845-4e77-a26c-23e8af8ba0fb"
      },
      "source": [
        "lines = []\n",
        "with open(\"input.txt\", \"r\") as f:\n",
        "  for line in f:\n",
        "    lines.append(line.rstrip())\n",
        "result = []\n",
        "for i in lines:\n",
        "  string = i\n",
        "  string = string.split()\n",
        "  result.append(string[1])\n",
        "for i in range(0, len(result)-1):\n",
        "  for j in range(i, len(result)):\n",
        "    if(len(result[i]) > len(result[j])):\n",
        "      result[i], result[j] = result[j], result[i]\n",
        "\n",
        "for i in sorted(set(result), key=result.index):\n",
        "  print(i)"
      ],
      "execution_count": null,
      "outputs": [
        {
          "output_type": "stream",
          "name": "stdout",
          "text": [
            "leopard\n",
            "orangutan\n"
          ]
        }
      ]
    },
    {
      "cell_type": "markdown",
      "metadata": {
        "id": "tsjtSiYsUWQh"
      },
      "source": [
        "# 6.6. Создание потомства\n"
      ]
    },
    {
      "cell_type": "code",
      "metadata": {
        "id": "kartScSVb2hF"
      },
      "source": [
        "with open(\"input.txt\", \"w\") as f:\n",
        "  f.write(\"0042 cat male Pushok 13.09.2015 31.12.2016\\n0043 dog female Dora 29.01.2015 31.12.2016\\n0003 elephant male Archi 03.03.2011 31.12.2016\\n0003 elephant female Archi 03.03.2011 31.12.2016\\n0003 cat female Archi 03.03.2011 31.12.2016\")"
      ],
      "execution_count": null,
      "outputs": []
    },
    {
      "cell_type": "code",
      "metadata": {
        "colab": {
          "base_uri": "https://localhost:8080/"
        },
        "id": "Wo6tAzcTb_zx",
        "outputId": "24b43416-2b55-41d0-fc9f-dd83ae9f891b"
      },
      "source": [
        "lines, result, dic = [], [], dict()\n",
        "with open(\"input.txt\", \"r\") as f:\n",
        "  for line in f:\n",
        "    lines.append(line.rstrip())\n",
        "for i in lines:\n",
        "  string = i.split()\n",
        "  dic.setdefault(string[1], []).append(string[2])\n",
        "\n",
        "keys, vals = list(dic.keys()), list(dic.values())\n",
        "for i in range(len(vals)):\n",
        "  if \"male\" in vals[i] and \"female\" in vals[i]:\n",
        "    result.append(keys[i])\n",
        "\n",
        "if len(result):\n",
        "  for i in sorted(set(result), key=len):\n",
        "    print(i)\n",
        "else:\n",
        "  print(0)"
      ],
      "execution_count": null,
      "outputs": [
        {
          "output_type": "stream",
          "name": "stdout",
          "text": [
            "cat\n",
            "elephant\n"
          ]
        }
      ]
    },
    {
      "cell_type": "markdown",
      "metadata": {
        "id": "q-vHyEQub19M"
      },
      "source": [
        "# 6.7. Наиболее часто встречающееся животное\n"
      ]
    },
    {
      "cell_type": "code",
      "metadata": {
        "id": "PoTmvMk0vvJG"
      },
      "source": [
        "with open(\"input.txt\", \"w\") as f:\n",
        "  f.write(\"0042 cat male Pushok 13.09.2015 31.12.2016\\n0043 dog female Dora 29.01.2015 31.12.2016\\n0003 dog male Max 03.03.2011 31.12.2016\")"
      ],
      "execution_count": null,
      "outputs": []
    },
    {
      "cell_type": "code",
      "metadata": {
        "colab": {
          "base_uri": "https://localhost:8080/"
        },
        "id": "JQRXyLNPv3uO",
        "outputId": "2104fcea-3455-40ab-d4c9-80a8d7aca631"
      },
      "source": [
        "lines = []\n",
        "dic = {}\n",
        "with open(\"input.txt\", \"r\") as f:\n",
        "  for line in f:\n",
        "    lines.append(line.rstrip())\n",
        "\n",
        "for i in lines:\n",
        "  string = i.split()\n",
        "  dic.setdefault(string[1], []).append(1)\n",
        "\n",
        "keys = list(dic.keys())\n",
        "vals = list(dic.values())\n",
        "\n",
        "for i in range(len(vals)):\n",
        "  for j in range(i, len(vals)):\n",
        "    if len(vals[j]) > len(vals[i]):\n",
        "      vals[i], vals[j] = vals[j], vals[i]\n",
        "      keys[i], keys[j] = keys[j], keys[i]\n",
        "\n",
        "for i in range(len(keys)):\n",
        "  print(keys[i], \"-\", len(vals[i]))"
      ],
      "execution_count": null,
      "outputs": [
        {
          "output_type": "stream",
          "name": "stdout",
          "text": [
            "dog - 2\n",
            "cat - 1\n"
          ]
        }
      ]
    },
    {
      "cell_type": "markdown",
      "metadata": {
        "id": "TwtIDTBAy7Vt"
      },
      "source": [
        "# 6.8. ID животных*\n"
      ]
    },
    {
      "cell_type": "code",
      "metadata": {
        "id": "OjYZFieJy6Yl"
      },
      "source": [
        "with open(\"input.txt\", \"w\") as f:\n",
        "  f.write(\"0042 lion male Pushok 13.09.2015 31.12.2016\\n0043 dog female Dora 29.01.2015 31.12.2016\\n0003 lion male Max 03.03.2011 31.12.2016\\n0003 lion\")"
      ],
      "execution_count": null,
      "outputs": []
    },
    {
      "cell_type": "code",
      "metadata": {
        "colab": {
          "base_uri": "https://localhost:8080/"
        },
        "id": "P59a_1U5zDgE",
        "outputId": "8a3412b9-566d-4617-fe68-1f59a21a47a2"
      },
      "source": [
        "lines, dic = [], {}\n",
        "with open(\"input.txt\", \"r\") as f:\n",
        "  for line in f:\n",
        "    lines.append(line.rstrip())\n",
        "for i in lines:\n",
        "  string = i.split()\n",
        "  dic.setdefault(string[1], []).append(string[0])\n",
        "keys = list(dic.keys())\n",
        "vals = list(dic.values())\n",
        "\n",
        "for i in range(len(vals)):\n",
        "  for j in range(i, len(vals)):\n",
        "    if len(vals[j]) > len(vals[i]):\n",
        "      vals[i], vals[j] = vals[j], vals[i]\n",
        "      keys[i], keys[j] = keys[j], keys[i]\n",
        "\n",
        "#keys = sorted(set(keys), key=len)\n",
        "for i in range(len(keys)):\n",
        "  for j in range(i, len(keys)):\n",
        "    if len(keys[i]) > len(keys[j]):\n",
        "      vals[i], vals[j] = vals[j], vals[i]\n",
        "      keys[i], keys[j] = keys[j], keys[i]\n",
        "\n",
        "for i in range(len(keys)):\n",
        "  q = sorted(vals[i])\n",
        "  string = \"\"\n",
        "  for j in range(len(q)):\n",
        "    string += q[j]\n",
        "    if j+1!=len(q):\n",
        "      string+=\", \"\n",
        "  print(f\"{keys[i]}: {string}\")"
      ],
      "execution_count": null,
      "outputs": [
        {
          "output_type": "stream",
          "name": "stdout",
          "text": [
            "dog: 0043\n",
            "lion: 0003, 0003, 0042\n"
          ]
        }
      ]
    },
    {
      "cell_type": "markdown",
      "metadata": {
        "id": "M8D72WG1G7L_"
      },
      "source": [
        "# MATH2: Минимальное сингулярное значение"
      ]
    },
    {
      "cell_type": "code",
      "metadata": {
        "colab": {
          "base_uri": "https://localhost:8080/"
        },
        "id": "j6y4NSaOG8GH",
        "outputId": "97b5fc5c-50a7-4a62-d7ab-61889591bda8"
      },
      "source": [
        "from scipy.sparse.linalg import svds\n",
        "\n",
        "from numpy.linalg import svd\n",
        "from scipy.sparse import csc_matrix\n",
        "import numpy as np\n",
        "\n",
        "a = np.array([[0, 1, 0], [1, 0, 1], [0, 1, 0]])\n",
        "u, s, vh = np.linalg.svd(a, full_matrices=True)\n",
        "print(u)\n",
        "print(s)\n",
        "\n",
        "A = csc_matrix([[0, 1, 0], [1, 0, 1], [0, 1, 0]], dtype=float)\n",
        "#print(A)\n",
        "u, s, vt = svds(A, k=2)\n",
        "\n",
        "print(u)\n",
        "print(s)"
      ],
      "execution_count": null,
      "outputs": [
        {
          "output_type": "stream",
          "name": "stdout",
          "text": [
            "[[ 0.70710678  0.          0.70710678]\n",
            " [ 0.         -1.          0.        ]\n",
            " [ 0.70710678  0.         -0.70710678]]\n",
            "[ 1.41421356  1.41421356 -0.        ]\n",
            "[[-0.55269706 -0.44105097]\n",
            " [-0.62374026  0.78163168]\n",
            " [-0.55269706 -0.44105097]]\n",
            "[1.41421356 1.41421356]\n"
          ]
        }
      ]
    },
    {
      "cell_type": "markdown",
      "metadata": {
        "id": "V4Wpm9zJcF2Z"
      },
      "source": [
        "# Лекция 7. Библиотеки Matplotlib и Numpy"
      ]
    },
    {
      "cell_type": "markdown",
      "metadata": {
        "id": "2BNFUC6BaU8q"
      },
      "source": [
        "# 7. 3. Underflow Error"
      ]
    },
    {
      "cell_type": "code",
      "metadata": {
        "colab": {
          "base_uri": "https://localhost:8080/"
        },
        "id": "_4sAEI6PaUF7",
        "outputId": "3b4db97b-6116-4a0a-f4c2-4f7d32bb2e67"
      },
      "source": [
        "print(1e-12 + 1e-27)\n",
        "print(1e-13 + 1e-29)\n",
        "print(1e-14 + 1e-30)"
      ],
      "execution_count": null,
      "outputs": [
        {
          "output_type": "stream",
          "name": "stdout",
          "text": [
            "1.000000000000001e-12\n",
            "1.0000000000000002e-13\n",
            "1.0000000000000002e-14\n"
          ]
        }
      ]
    },
    {
      "cell_type": "markdown",
      "metadata": {
        "id": "hJrTfWM4b_Vi"
      },
      "source": [
        "# 7.4. Управление пекарней"
      ]
    },
    {
      "cell_type": "code",
      "metadata": {
        "colab": {
          "base_uri": "https://localhost:8080/"
        },
        "id": "gWn1kMcnb-_x",
        "outputId": "cce44f1f-a2da-41be-f1b6-c9b1ea0d4d4f"
      },
      "source": [
        "#f(day)=e^(sin(day/100)⋅day/10)*20\n",
        "import math\n",
        "def f(day):\n",
        "  ret_val = math.exp(math.sin(day/100)*day/10)*20\n",
        "  return int(ret_val)\n",
        "\n",
        "print(f(18))\n"
      ],
      "execution_count": null,
      "outputs": [
        {
          "output_type": "stream",
          "name": "stdout",
          "text": [
            "27\n"
          ]
        }
      ]
    },
    {
      "cell_type": "markdown",
      "metadata": {
        "id": "xsvxz2GLc4WZ"
      },
      "source": [
        "# 7.5. Битва при Азенкуре"
      ]
    },
    {
      "cell_type": "code",
      "metadata": {
        "id": "2Uptq-AOc4kR"
      },
      "source": [
        "with open(\"input.txt\", \"w\") as f:\n",
        "  f.write(\"1410 1411 1412 1413 1414 1415 1416\")"
      ],
      "execution_count": null,
      "outputs": []
    },
    {
      "cell_type": "code",
      "metadata": {
        "colab": {
          "base_uri": "https://localhost:8080/"
        },
        "id": "VVHGZ7XLdFx_",
        "outputId": "d6105298-dd6c-4825-d191-58389c3fecc3"
      },
      "source": [
        "import numpy as np\n",
        "lines = []\n",
        "with open(\"input.txt\", \"r\") as f:\n",
        "  for l in f:\n",
        "    lines.append(l.rstrip())\n",
        "l = lines[0].split()\n",
        "for i in range(len(l)):\n",
        "  l[i] = int(l[i])\n",
        "\n",
        "'''\n",
        "def binarySearch (arr, l, r, x):\n",
        "    if r >= l:\n",
        "        mid = l + (r - l) // 2\n",
        "        if arr[mid] == x:\n",
        "            return mid\n",
        "        elif arr[mid] > x:\n",
        "            return binarySearch(arr, l, mid-1, x)\n",
        "        else:\n",
        "            return binarySearch(arr, mid + 1, r, x)\n",
        "    else:\n",
        "        return -1\n",
        "\n",
        "binarySearch(l, 0, len(l)-1, 1415)\n",
        "'''\n",
        "\n",
        "print(np.searchsorted(l, 1415))"
      ],
      "execution_count": null,
      "outputs": [
        {
          "output_type": "stream",
          "name": "stdout",
          "text": [
            "5\n"
          ]
        }
      ]
    },
    {
      "cell_type": "markdown",
      "metadata": {
        "id": "H8mm2hwolZTQ"
      },
      "source": [
        "# 7.6. Менеджмент"
      ]
    },
    {
      "cell_type": "code",
      "metadata": {
        "id": "f0z2vegQlZnL"
      },
      "source": [
        "with open(\"input.txt\", \"w\") as f:\n",
        "  f.write(\"10\\n50\\n5\")"
      ],
      "execution_count": null,
      "outputs": []
    },
    {
      "cell_type": "code",
      "metadata": {
        "colab": {
          "base_uri": "https://localhost:8080/"
        },
        "id": "OLWEid51d5pQ",
        "outputId": "5977d448-7242-41f4-aa15-7c5b095d4e85"
      },
      "source": [
        "import numpy as np\n",
        "lines = []\n",
        "with open(\"input.txt\", \"r\") as f:\n",
        "  for l in f:\n",
        "    lines.append(l.rstrip())\n",
        "\n",
        "productivity = np.linspace(int(lines[0]),int(lines[1]),int(lines[2]))\n",
        "for i in range(len(productivity)):\n",
        "  monday = False if i%7!=0 else True\n",
        "  friday = True if i%7==4 else False\n",
        "  if monday:\n",
        "    productivity[i] /= 3\n",
        "  if friday:\n",
        "    productivity[i] *= 2\n",
        "#print(productivity)\n",
        "with open(\"output.txt\", \"w\") as f:\n",
        "  for i in productivity:\n",
        "    print(f\"{i:.2f}\")\n",
        "    print(f\"{i:.2f}\",file=f)"
      ],
      "execution_count": null,
      "outputs": [
        {
          "output_type": "stream",
          "name": "stdout",
          "text": [
            "3.33\n",
            "20.00\n",
            "30.00\n",
            "40.00\n",
            "100.00\n"
          ]
        }
      ]
    },
    {
      "cell_type": "markdown",
      "metadata": {
        "id": "EK0Qx2QxivbC"
      },
      "source": [
        "# Лекция 8. Работа с библиотекой NumPy"
      ]
    },
    {
      "cell_type": "markdown",
      "metadata": {
        "id": "lv9HH6qvix8y"
      },
      "source": [
        "# 8.1. Немного статистики"
      ]
    },
    {
      "cell_type": "code",
      "metadata": {
        "id": "6YyQZAv8jNB6"
      },
      "source": [
        "with open(\"input.txt\", \"w\") as f:\n",
        "  l = [i for i in range(1000,1011)]\n",
        "  for i in range(len(l)):\n",
        "    f.write(str(l[i])+\" \")\n",
        "    "
      ],
      "execution_count": null,
      "outputs": []
    },
    {
      "cell_type": "code",
      "metadata": {
        "id": "X9HprgoPi3pT"
      },
      "source": [
        "import numpy as np\n",
        "\n",
        "with open(\"input.txt\", \"r\") as f:\n",
        "  a = f.read()\n",
        "#print(a)\n",
        "l = a.split()\n",
        "#print(l)\n",
        "l = np.array(l, dtype=int)\n",
        "with open(\"output.txt\", \"w\") as f:\n",
        "  print(f\"{np.median(l):.2f} {np.mean(l):.2f} {np.std(l):.2f}\", file=f)"
      ],
      "execution_count": null,
      "outputs": []
    },
    {
      "cell_type": "markdown",
      "metadata": {
        "id": "t2GOfUkqi37q"
      },
      "source": [
        "# 8.2. Мода"
      ]
    },
    {
      "cell_type": "code",
      "metadata": {
        "id": "O0FWgmhaLZtT"
      },
      "source": [
        "with open(\"input.csv\", \"w\") as f:\n",
        "  f.write(\"14,17,27\\n47,22,76\\n96,61,39\\n11,16,12\\n94,70,82\\n47,43,81\\n19,36,42\\n13,50,41\\n91,25,40\\n36,22,12\")"
      ],
      "execution_count": null,
      "outputs": []
    },
    {
      "cell_type": "code",
      "metadata": {
        "id": "UvXXcH2si4rL",
        "colab": {
          "base_uri": "https://localhost:8080/"
        },
        "outputId": "700014be-29ef-4eea-e3f0-9d183a1f2549"
      },
      "source": [
        "import numpy as np\n",
        "txt_data = np.genfromtxt('input.csv',delimiter=',')\n",
        "c_sums = txt_data.sum(axis=0)\n",
        "#print(c_sums)\n",
        "print(np.argmax(c_sums)+1)"
      ],
      "execution_count": null,
      "outputs": [
        {
          "output_type": "stream",
          "name": "stdout",
          "text": [
            "[468. 362. 452.]\n",
            "1\n"
          ]
        }
      ]
    },
    {
      "cell_type": "markdown",
      "metadata": {
        "id": "XfgoimZTNKtT"
      },
      "source": [
        "# 8.3. Две чугунные гири"
      ]
    },
    {
      "cell_type": "code",
      "metadata": {
        "id": "i9PexliONOH7"
      },
      "source": [
        "with open(\"input.csv\", \"w\") as f:\n",
        "  f.write(\"5,9,8,6,7,5,7,8,9,6,8,8,9,7,6,7,7,7,5,6,8,5,7,6,6,6,6,7,5,7,7,9,5,6,5\\n9,5,5,7,5,7,6,7,6,7,7,8,6,5,8,9,9,6,7,5,6,8,9,9,5,5,7,8,7,5,6,7,5,6,5\\n18,10,12,10,19,17,11,11,12,20,23,14,10,21,13,24,22,9,11,20,14,18,14,7,7,11,19,21,8,20,17,12,7,17,8\")"
      ],
      "execution_count": null,
      "outputs": []
    },
    {
      "cell_type": "code",
      "metadata": {
        "colab": {
          "base_uri": "https://localhost:8080/"
        },
        "id": "3MHCgpzZNOUT",
        "outputId": "2582bbfb-daad-4b42-fff3-85650511aa59"
      },
      "source": [
        "import numpy as np\n",
        "txt_data = np.genfromtxt('input.csv',delimiter=',')\n",
        "stds = txt_data.std(axis=1)\n",
        "#print(stds)\n",
        "tip = [0,0]\n",
        "for i in stds:\n",
        "  if(i > 4):\n",
        "    tip[1]+=1\n",
        "  else:\n",
        "    tip[0]+=1\n",
        "tip = np.array(tip)\n",
        "print(np.argmax(tip)+1)"
      ],
      "execution_count": null,
      "outputs": [
        {
          "output_type": "stream",
          "name": "stdout",
          "text": [
            "1\n"
          ]
        }
      ]
    },
    {
      "cell_type": "markdown",
      "metadata": {
        "id": "x6-zp7RlOw2L"
      },
      "source": [
        "# 8.4. Очистка логов"
      ]
    },
    {
      "cell_type": "markdown",
      "metadata": {
        "id": "XPi7czrXPYQr"
      },
      "source": [
        "четным числам нечетных месяцев, нечетным числам в четные месяцы"
      ]
    },
    {
      "cell_type": "code",
      "metadata": {
        "id": "QSVbQ-r2O0hL"
      },
      "source": [
        "t = np.ones(shape=(30,12), dtype=float)\n",
        "t*=3\n",
        "np.savetxt('input.csv', t, delimiter = ',')"
      ],
      "execution_count": null,
      "outputs": []
    },
    {
      "cell_type": "code",
      "metadata": {
        "id": "1XJ6H3POO0tz"
      },
      "source": [
        "import numpy as np\n",
        "txt_data = np.genfromtxt('input.csv',delimiter=',')\n",
        "#print(txt_data)\n",
        "txt_data = txt_data.transpose()\n",
        "zeroscol = np.zeros(shape=(12))\n",
        "zerosrow = np.zeros(shape=(31))\n",
        "txt_data = np.insert(txt_data,0, zeroscol, axis=1)\n",
        "txt_data = np.insert(txt_data,0, zerosrow, axis=0)\n",
        "for i in range(len(txt_data)):\n",
        "    for j in range(len(txt_data[i])):\n",
        "      if i%2:\n",
        "        if j%2==0:\n",
        "          txt_data[i][j] = txt_data[i][j] / 2\n",
        "      else:\n",
        "        if j%2==1:\n",
        "          txt_data[i][j] = txt_data[i][j] / 2\n",
        "txt_data = txt_data[~np.all(txt_data == 0, axis=1)]\n",
        "txt_data = txt_data[:,1:]\n",
        "txt_data = txt_data.T\n",
        "#print(txt_data)\n",
        "np.savetxt('output.csv', txt_data, delimiter = ',', fmt=\"%g\")\n"
      ],
      "execution_count": null,
      "outputs": []
    },
    {
      "cell_type": "markdown",
      "metadata": {
        "id": "-2fhfCjNUT2z"
      },
      "source": [
        "# 8.5. Дуэльный клуб"
      ]
    },
    {
      "cell_type": "code",
      "metadata": {
        "id": "6SxjC08eUTjz"
      },
      "source": [
        "with open(\"input.csv\", \"w\") as f:\n",
        "  f.write(\"22,28,33,17,21,33,27,34,27,31,16,16,25,34,21,17,30,21,31,20,15,19,32,23,20,16,16,23,19,21,22,31,33,30,30\\n21,22,32,22,34,31,25,28,29,26,20,21,31,25,34,17,27,34,16,17,19,21,17,32,23,15,21,19,26,19,18,19,18,29,33  \\n30,28,20,32,21,23,29,28,24,24,19,20,29,26,28,27,17,31,18,15,15,21,22,18,22,23,25,30,28,19,19,30,18,31,17\\n26,20,27,28,17,26,21,25,23,26,19,27,17,24,30,21,24,27,20,27,21,16,23,33,31,20,18,29,30,28,22,29,16,16,17\\n32,34,30,25,30,28,21,25,22,28,15,16,16,19,17,31,30,34,34,29,23,16,34,26,19,20,33,29,23,15,32,27,15,24,26\\n34,17,15,31,23,21,34,34,33,20,19,22,18,33,17,15,25,18,25,27,34,32,26,29,15,33,25,27,16,18,29,32,34,20,29\\n33,32,29,22,33,17,30,29,30,22,27,24,22,30,32,22,25,33,28,27,32,25,32,18,22,32,16,24,20,22,24,30,24,19,24\\n17,21,22,28,15,28,31,19,22,24,20,15,17,24,23,18,19,16,24,33,24,28,28,22,33,20,28,28,26,34,28,34,15,34,27\\n30,29,28,34,25,18,15,31,31,18,23,25,25,27,15,22,23,31,25,20,16,22,30,19,15,31,26,16,24,18,20,15,19,34,30\\n25,33,33,15,17,25,21,31,32,32,29,21,19,26,20,17,30,21,17,31,34,31,30,26,19,15,22,19,19,29,22,25,31,23,19\\n25,19,17,28,27,29,25,30,30,28,16,15,33,18,25,25,29,20,30,23,16,32,31,17,15,21,29,30,20,18,31,27,24,33,28\\n16,25,17,22,24,19,34,18,25,24,32,31,22,17,29,16,16,18,15,28,23,25,22,27,23,17,27,19,18,31,28,34,15,25,34\\n32,26,31,21,16,16,25,19,18,28,18,33,20,31,28,24,31,18,25,34,16,20,26,26,29,22,34,34,30,16,33,17,31,26,31\\n29,32,26,32,22,18,31,27,18,32,25,15,23,15,18,24,21,26,22,18,19,18,28,27,17,25,26,26,27,26,26,32,18,28,30\\n28,28,15,22,32,25,15,17,26,28,30,24,17,22,24,19,16,21,22,15,26,27,30,32,29,15,23,28,33,17,29,15,25,18,31\")"
      ],
      "execution_count": null,
      "outputs": []
    },
    {
      "cell_type": "code",
      "metadata": {
        "id": "G7IouuIQUaj9"
      },
      "source": [
        "import numpy as np\n",
        "h=np.genfromtxt('input.csv', delimiter=',')\n",
        "for i in range(len(h[0,])):\n",
        "  h[0,i]=np.floor(np.mean(h[:,i])*1.5)\n",
        "np.savetxt('output.csv',h,delimiter=',',fmt='%g')"
      ],
      "execution_count": null,
      "outputs": []
    },
    {
      "cell_type": "markdown",
      "metadata": {
        "id": "hT4pRcur3IrB"
      },
      "source": [
        ""
      ]
    },
    {
      "cell_type": "markdown",
      "metadata": {
        "id": "KmSDkjyo3JS5"
      },
      "source": [
        "# 9.1. Железная логика"
      ]
    },
    {
      "cell_type": "code",
      "metadata": {
        "colab": {
          "base_uri": "https://localhost:8080/"
        },
        "id": "1y_GGo3S3QSI",
        "outputId": "25bddde1-6836-4fe2-867a-5c5b67e2504d"
      },
      "source": [
        "for x1 in False, True:\n",
        "    for x2 in False, True:\n",
        "        for x3 in False, True:\n",
        "            if ((not x1) and x2 and (not x3)) or ((not x1) and x2 and x3) or (x1 and (not x2) and (not x3)) == True:\n",
        "              print(\"{} {} {}\".format(x1, x2, x3))\n"
      ],
      "execution_count": null,
      "outputs": [
        {
          "output_type": "stream",
          "name": "stdout",
          "text": [
            "False True False\n",
            "False True True\n",
            "True False False\n"
          ]
        }
      ]
    },
    {
      "cell_type": "markdown",
      "metadata": {
        "id": "FXPaelx76CIs"
      },
      "source": [
        "# 9.2. Электрик Станислав и интернет-казино "
      ]
    },
    {
      "cell_type": "code",
      "metadata": {
        "id": "HMcp9xYG5oaA"
      },
      "source": [
        "with open(\"input.csv\", \"w\") as f:\n",
        "  f.write(\"Вишенка,Бабочка,Кабачок\\n97.84034494908083,-173.34106120704837,-188.34056227449344\\n30.346779261014778,92.84266437081399,176.5771839698425\\n-20.927535597697414,-225.06001703450355,9.906538395106026\")"
      ],
      "execution_count": null,
      "outputs": []
    },
    {
      "cell_type": "code",
      "metadata": {
        "colab": {
          "base_uri": "https://localhost:8080/"
        },
        "id": "a5jllMs26WUi",
        "outputId": "38eb93a0-b6c1-497d-858b-146ca4ce4c3f"
      },
      "source": [
        "import numpy as np\n",
        "with open(\"input.csv\", \"r\") as f:\n",
        "  names = f.readline() \n",
        "data = np.genfromtxt(\"input.csv\", delimiter=\",\")[1:,]\n",
        "names = names.split(\",\")\n",
        "names[len(names)-1] = names[len(names)-1][0:-1]\n",
        "#print(data)\n",
        "means = []\n",
        "for i in range(len(data[0,])):\n",
        "  means.append(np.mean(data[:,i]))\n",
        "means = np.array(means)\n",
        "print(names[means.argmax()])"
      ],
      "execution_count": null,
      "outputs": [
        {
          "output_type": "stream",
          "name": "stdout",
          "text": [
            "Вишенка\n"
          ]
        }
      ]
    },
    {
      "cell_type": "markdown",
      "metadata": {
        "id": "HX_UTpck_Vfh"
      },
      "source": [
        "# 9.3. Инвестор Генадий и новый Мерседес"
      ]
    },
    {
      "cell_type": "code",
      "metadata": {
        "id": "xnJf4tGi_VIw"
      },
      "source": [
        "with open(\"input.csv\", \"w\") as f:\n",
        "  f.write(\"Газбанк,Сберпром,Мыло.ру\\n1095238,1656163,2746738\\n1103245,1644220,2731470\\n1116010,1647492,2755662\")\n",
        "  "
      ],
      "execution_count": null,
      "outputs": []
    },
    {
      "cell_type": "code",
      "metadata": {
        "colab": {
          "base_uri": "https://localhost:8080/"
        },
        "id": "Qh3BATx5_g97",
        "outputId": "f89fa54d-4837-4e3e-831d-38a454fb4aa9"
      },
      "source": [
        "import numpy as np\n",
        "with open(\"input.csv\", \"r\") as f:\n",
        "  names = f.readline() \n",
        "data = np.genfromtxt(\"input.csv\", delimiter=\",\")[1:,]\n",
        "names = names.split(\",\")\n",
        "names[len(names)-1] = names[len(names)-1][0:-1]\n",
        "#print(data)\n",
        "sums = []\n",
        "for i in range(len(data[0,])):\n",
        "  sums.append(np.sum(data[:,i]))\n",
        "sums = np.array(sums)\n",
        "#print(sums)\n",
        "#print(sums.sum())\n",
        "if sums.sum() > 8000000:\n",
        "  print(\"1\", end=\" \")\n",
        "else:\n",
        "  print(\"0\", end=\" \")\n",
        "print(names[sums.argmax()])"
      ],
      "execution_count": null,
      "outputs": [
        {
          "output_type": "stream",
          "name": "stdout",
          "text": [
            "1 Мыло.ру\n"
          ]
        }
      ]
    },
    {
      "cell_type": "markdown",
      "metadata": {
        "id": "e5lizO-ZDMbJ"
      },
      "source": [
        "# 9.4. Однажды на заводе"
      ]
    },
    {
      "cell_type": "code",
      "metadata": {
        "id": "lrQ5hSrZJM1m"
      },
      "source": [
        "with open(\"input.csv\", \"w\") as f:\n",
        "  f.write(\"Петр,Иван,Елисей,Потап,Евгений,Сергей\\n88,268,253,564,281,861\\n208,156,138,604,48,759\\n255,329,262,553,147,773\")"
      ],
      "execution_count": null,
      "outputs": []
    },
    {
      "cell_type": "code",
      "metadata": {
        "colab": {
          "base_uri": "https://localhost:8080/"
        },
        "id": "jl_Yh0OxLL6V",
        "outputId": "68315f52-69cb-459f-ace1-c8eb792075b0"
      },
      "source": [
        "import numpy as np\n",
        "with open(\"input.csv\", \"r\") as f:\n",
        "  names = f.readline() \n",
        "data = np.genfromtxt(\"input.csv\", delimiter=\",\")[1:,]\n",
        "names = names.split(\",\")\n",
        "names[len(names)-1] = names[len(names)-1][0:-1]\n",
        "#print(data)\n",
        "sums = []\n",
        "for i in range(len(data[0,])):\n",
        "  sums.append(np.sum(data[:,i]))\n",
        "sums = np.array(sums)\n",
        "meansum = np.mean(sums)\n",
        "\n",
        "res = []\n",
        "for i in range(len(data[0,])):\n",
        "  k = []\n",
        "  s = 0\n",
        "  for j in range(len(data[:,])):\n",
        "    s += data[j,i]\n",
        "    if s>meansum:\n",
        "      res.append([i, j+1])\n",
        "      break\n",
        "#print(res)\n",
        "for i in res:\n",
        "  print(names[i[0]], i[1])"
      ],
      "execution_count": null,
      "outputs": [
        {
          "output_type": "stream",
          "name": "stdout",
          "text": [
            "Потап 2\n",
            "Сергей 2\n"
          ]
        }
      ]
    },
    {
      "cell_type": "markdown",
      "metadata": {
        "id": "Z9bPMtKrPl1L"
      },
      "source": [
        "# 9.5. Ошибка выжившего"
      ]
    },
    {
      "cell_type": "code",
      "metadata": {
        "id": "xf5kPkArPmMp"
      },
      "source": [
        "with open(\"input.csv\", \"w\") as f:\n",
        "  f.write(\"5,21,0,49,43,10,34,9,14,7\\n5,26,2,23,49,9,33,53,6,8\\n10,19,3,49,51,16,32,15,7,58\\n10,23,1,21,44,13,32,43,7,65\\n14,25,3,45,40,7,34,25,12,14\\n8,24,0,45,53,20,32,28,17,43\\n13,17,0,32,38,18,35,9,15,9\\n7,20,3,32,41,16,32,31,20,15\\n9,16,1,42,51,9,33,50,11,50\\n9,28,1,29,47,18,35,6,10,11\\n10,25,0,38,35,15,35,50,16,39\\n8,17,3,41,54,14,33,50,18,22\\n7,23,1,39,45,9,32,16,12,40\\n14,21,2,21,48,7,35,18,7,16\\n10,25,1,49,40,5,34,54,16,36\")"
      ],
      "execution_count": null,
      "outputs": []
    },
    {
      "cell_type": "code",
      "metadata": {
        "colab": {
          "base_uri": "https://localhost:8080/"
        },
        "id": "9OFCnX8xP_zc",
        "outputId": "d50edfc8-9388-475a-b7bb-b9bad9d76c8a"
      },
      "source": [
        "import numpy as np\n",
        "data = np.genfromtxt(\"input.csv\", delimiter=\",\")\n",
        "nd = []\n",
        "for i in range(len(data[0,])):\n",
        "  nd.append(np.mean(data[:,i]))\n",
        "nd = np.array(nd)\n",
        "print(nd.argmin()+1)"
      ],
      "execution_count": null,
      "outputs": [
        {
          "output_type": "stream",
          "name": "stdout",
          "text": [
            "3\n"
          ]
        }
      ]
    }
  ]
}